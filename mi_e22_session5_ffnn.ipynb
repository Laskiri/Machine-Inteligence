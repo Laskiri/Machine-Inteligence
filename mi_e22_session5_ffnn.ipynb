{
  "nbformat": 4,
  "nbformat_minor": 0,
  "metadata": {
    "colab": {
      "provenance": [],
      "include_colab_link": true
    },
    "kernelspec": {
      "name": "python3",
      "display_name": "Python 3"
    },
    "language_info": {
      "name": "python"
    }
  },
  "cells": [
    {
      "cell_type": "markdown",
      "metadata": {
        "id": "view-in-github",
        "colab_type": "text"
      },
      "source": [
        "<a href=\"https://colab.research.google.com/github/Laskiri/Machine-Inteligence/blob/main/mi_e22_session5_ffnn.ipynb\" target=\"_parent\"><img src=\"https://colab.research.google.com/assets/colab-badge.svg\" alt=\"Open In Colab\"/></a>"
      ]
    },
    {
      "cell_type": "code",
      "execution_count": null,
      "metadata": {
        "id": "xnLEc20fE9IK"
      },
      "outputs": [],
      "source": [
        "# FFNN implementation in Keras\n",
        "import numpy as np\n",
        "from numpy.random import seed\n",
        "seed(1337)\n",
        "\n",
        "from tensorflow.keras.models import Sequential\n",
        "from tensorflow.keras.layers import Dense\n",
        "\n",
        "# Load data\n",
        "from sklearn.datasets import load_digits\n",
        "data = load_digits(n_class=10)\n",
        "X = data.data[:,:32]\n",
        "y = np.zeros((X.shape[0], 10), dtype=np.int32)\n",
        "for idx, i in enumerate(data.target):\n",
        "  y[idx,i]=1\n",
        "\n",
        "# Making a test split :)\n",
        "X_test = X[:100]\n",
        "y_test = y[:100]\n",
        "X = X[100:]\n",
        "y = y[100:]\n",
        "\n",
        "X.shape[0]/10"
      ]
    },
    {
      "cell_type": "code",
      "source": [
        "# define the keras model\n",
        "model = Sequential()\n",
        "\n",
        "# Input Layer\n",
        "# TODO: You can change the number of neurons in the first layer here - leave the input_shape= as is, though :)\n",
        "# TODO: You can change the activation here too\n",
        "model.add(Dense(256,\n",
        "                input_shape=(32,), # DO NOT CHANGE\n",
        "                activation='sigmoid'))\n",
        "\n",
        "# Hidden Layer(s)\n",
        "# TODO: Add some more here!\n",
        "# EXAMPLE:\n",
        "model.add(Dense(128, activation='sigmoid'))\n",
        "model.add(Dense(64, activation='relu'))\n",
        "model.add(Dense(32, activation='relu'))\n",
        "# Output Layer\n",
        "model.add(Dense(10, activation='softmax')) # DO NOT CHANGE\n",
        "\n",
        "\n",
        "# compile the keras model\n",
        "model.compile(loss='categorical_crossentropy', # DO NOT CHANGE\n",
        "              optimizer='adam', # sgd, adam, etc...\n",
        "              metrics=['accuracy']) # DO NOT CHANGE\n",
        "\n",
        "# fit the keras model on the dataset\n",
        "history = model.fit(X, y, validation_split = 0.1, epochs=8, batch_size=40, shuffle=True)\n",
        "\n",
        "# evaluate the keras model\n",
        "_, accuracy = model.evaluate(X_test, y_test)\n",
        "print('Test Accuracy: %.2f' % (accuracy*100))\n"
      ],
      "metadata": {
        "id": "z5m3acfbFY06"
      },
      "execution_count": null,
      "outputs": []
    },
    {
      "cell_type": "code",
      "source": [
        "from matplotlib import pyplot as plt\n",
        "plt.plot(history.history['accuracy'])\n",
        "plt.plot(history.history['val_accuracy'])\n",
        "plt.title('model accuracy')\n",
        "plt.ylabel('accuracy')\n",
        "plt.xlabel('epoch')\n",
        "plt.legend(['train', 'val'], loc='upper left')\n",
        "plt.show()"
      ],
      "metadata": {
        "id": "9g2SCZQeHRLO"
      },
      "execution_count": null,
      "outputs": []
    },
    {
      "cell_type": "code",
      "source": [],
      "metadata": {
        "id": "oJ8xwCx_HyKx"
      },
      "execution_count": null,
      "outputs": []
    }
  ]
}